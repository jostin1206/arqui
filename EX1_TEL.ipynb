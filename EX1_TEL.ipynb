{
  "cells": [
    {
      "cell_type": "code",
      "execution_count": null,
      "metadata": {
        "id": "XJaYUmHtbskU"
      },
      "outputs": [],
      "source": [
        "! rm *.c *.o *.so"
      ]
    },
    {
      "cell_type": "markdown",
      "metadata": {
        "id": "VIptIb2MbskW"
      },
      "source": [
        "# Examen Parcial\n",
        "\n",
        "Indicaciones generales:\n",
        "\n",
        "* En lo que respecta a `C` no deberá usar punteros, ni arreglos. Tampoco se deberá emplear administración de memoria dinámica, ni de funciones auxiliares de ninguna librería.\n",
        "\n",
        "* Los puntajes de ítems relacionados con mediciones de tiempo, error relativo y presentación de gráficos solo serán asignados en caso sus funciones estén correctamente implementadas.\n",
        "\n",
        "* Las funciones implementadas solo deberán tener los argumentos mencionados en su respectivo ítem.\n",
        "\n",
        "* Los resultados de la función `_slow_` serán las referencias para medir los speedups.\n",
        "\n",
        "* No se puede emplear ChatGPT, ni ningún modelo de lenguaje.\n",
        "\n",
        "* Puede emplear apuntes, clases y hacer consultas en foros de internet."
      ]
    },
    {
      "cell_type": "markdown",
      "metadata": {
        "id": "rxifxbkjbskX"
      },
      "source": [
        "El arco tangente de un número `x` se calcula con la siguiente serie:\n",
        "\n",
        "$$\n",
        "arctan(x) = x - \\frac{x^{3}}{3} + \\frac{x^{5}}{5} - \\frac{x^{7}}{7} + \\frac{x^{9}}{9} - \\cdots\n",
        "$$\n",
        "\n",
        "Durante el examen se le solicitará implementar una grupo de funciones basados en esta serie"
      ]
    },
    {
      "cell_type": "markdown",
      "metadata": {
        "id": "bS5pOWxXbskY"
      },
      "source": [
        "1. Implementar una función en `python` que calcule el arcotangente de un ángulo `x`. (1.0)\n",
        "\n",
        "Nombre: `py_arctan_slow`\n",
        "\n",
        "Argumentos:\n",
        "* `x` : número\n",
        "* `n_terms`: cantidad de términos\n",
        "\n",
        "Resultado: `arctan(x)`\n",
        "\n",
        "Observación: No debe emplear funciones de módulos auxiliares, ni suyas propias. Todo se debe hacer dentro de la función."
      ]
    },
    {
      "cell_type": "code",
      "execution_count": null,
      "metadata": {
        "id": "uESya0L9bskY"
      },
      "outputs": [],
      "source": [
        "def py_arctan_slow(x, n_terms):\n",
        "    pass"
      ]
    },
    {
      "cell_type": "markdown",
      "metadata": {
        "id": "kuRmw4m4bskY"
      },
      "source": [
        "2. Implementar una función en `python` que calcule el arcotangente de un ángulo `x`. (2.0)\n",
        "\n",
        "Nombre: `py_arctan_fast`\n",
        "\n",
        "Argumentos:\n",
        "* `x` : número\n",
        "* `n_terms`: cantidad de términos\n",
        "\n",
        "Resultado: `arctan(x)`\n",
        "\n",
        "Observación: No debe emplear funciones de módulos auxiliares, ni suyas propias. Se le sugiere deducir el término $t_{n}$ en función del término $t_{n-1}$"
      ]
    },
    {
      "cell_type": "code",
      "execution_count": null,
      "metadata": {
        "id": "6n2S9DKZbskZ"
      },
      "outputs": [],
      "source": [
        "def py_arctan_fast(x, n_terms):\n",
        "    pass"
      ]
    },
    {
      "cell_type": "markdown",
      "metadata": {
        "id": "b3Pr4t7GbskZ"
      },
      "source": [
        "3. En una celda mágica implementar dos versiones en `C` para la función `py_arctan_fast`. Una versión será para ángulos de tipo `double` y otra versión será para ángulos de tipo `long double`. (3.0)"
      ]
    },
    {
      "cell_type": "code",
      "execution_count": null,
      "metadata": {
        "id": "gqv0eDE9bskZ"
      },
      "outputs": [],
      "source": [
        "%%file c_arctan.c"
      ]
    },
    {
      "cell_type": "markdown",
      "metadata": {
        "id": "6z-NVMt8bska"
      },
      "source": [
        "4. Crear el *object file* y la *shared library* (0.25)"
      ]
    },
    {
      "cell_type": "code",
      "execution_count": null,
      "metadata": {
        "id": "-9iqQbMMbska"
      },
      "outputs": [],
      "source": [
        "! gcc -c ..."
      ]
    },
    {
      "cell_type": "code",
      "execution_count": null,
      "metadata": {
        "id": "T0I2FwlEbska"
      },
      "outputs": [],
      "source": [
        "! gcc -shared ..."
      ]
    },
    {
      "cell_type": "markdown",
      "metadata": {
        "id": "A11rYatSbska"
      },
      "source": [
        "5. Hacer el enlace con python mediante `ctypes` (0.25)"
      ]
    },
    {
      "cell_type": "code",
      "execution_count": null,
      "metadata": {
        "id": "8WAb3k67bskb"
      },
      "outputs": [],
      "source": [
        "import ctypes"
      ]
    },
    {
      "cell_type": "code",
      "execution_count": null,
      "metadata": {
        "id": "r7Z09WP_bskb"
      },
      "outputs": [],
      "source": [
        "def ctypes_c_arctan():\n",
        "    pass"
      ]
    },
    {
      "cell_type": "markdown",
      "metadata": {
        "id": "NuuN9GGsbskb"
      },
      "source": [
        "6. Hacer una instancia de las dos funciones en C llamando a la función del ítem 5 (0.25)"
      ]
    },
    {
      "cell_type": "code",
      "execution_count": null,
      "metadata": {
        "id": "n41uaT4tbskb"
      },
      "outputs": [],
      "source": [
        "c_arctan_double, c_arctan_longdouble = ctypes_c_arctan()"
      ]
    },
    {
      "cell_type": "markdown",
      "metadata": {
        "id": "3TdBlyL8bskc"
      },
      "source": [
        "7. Presentar una gráfica para las cuatro funciones empleando solo 1 término. Reemplace sus funciones donde se indica. (0.25)"
      ]
    },
    {
      "cell_type": "code",
      "execution_count": null,
      "metadata": {
        "id": "CLr9ufdkbskc"
      },
      "outputs": [],
      "source": [
        "import numpy as np\n",
        "import matplotlib.pyplot as plt"
      ]
    },
    {
      "cell_type": "code",
      "execution_count": null,
      "metadata": {
        "id": "QrKxUxxTbskc"
      },
      "outputs": [],
      "source": [
        "xs = np.linspace(-1.00, 1.00, 1000)"
      ]
    },
    {
      "cell_type": "code",
      "execution_count": null,
      "metadata": {
        "id": "AYBflaxqbskc"
      },
      "outputs": [],
      "source": [
        "yslow = np.asarray([py_arctan_slow(x, 1) for x in xs])\n",
        "yfast = np.asarray([py_arctan_fast(x, 1) for x in xs])\n",
        "yfast_cd = np.asarray([c_arctan_double(x, 1) for x in xs])\n",
        "yfast_cld = np.asarray([c_arctan_longdouble(x, 1) for x in xs])"
      ]
    },
    {
      "cell_type": "code",
      "execution_count": null,
      "metadata": {
        "id": "paaqf7exbskd"
      },
      "outputs": [],
      "source": [
        "plt.plot(xs,yslow, label='slow')\n",
        "plt.plot(xs,yfast, label='fast')\n",
        "plt.plot(xs,yfast_cd, label='double')\n",
        "plt.plot(xs,yfast_cld, label='long double')\n",
        "plt.plot(xs,np.arctan(xs), label='math')\n",
        "plt.legend()\n",
        "plt.tight_layout()"
      ]
    },
    {
      "cell_type": "markdown",
      "metadata": {
        "id": "hfyQdiWIbskd"
      },
      "source": [
        "8. Implementar una función en `python` que calcula el error relativo de una función `f` sobre un grupo de números `xs` con `n_terms` términos (1.0)"
      ]
    },
    {
      "cell_type": "code",
      "execution_count": null,
      "metadata": {
        "id": "WgFBEUERbskd"
      },
      "outputs": [],
      "source": [
        "def error_relativo(f, xs, n_terms):\n",
        "    pass"
      ]
    },
    {
      "cell_type": "markdown",
      "metadata": {
        "id": "TRl9r9mjbskd"
      },
      "source": [
        "9. Presentar una gráfica del error relativo para las cuatro funciones. Reemplace sus funciones donde se indica. (0.25)"
      ]
    },
    {
      "cell_type": "code",
      "execution_count": null,
      "metadata": {
        "id": "sROrLFRfbske"
      },
      "outputs": [],
      "source": [
        "N = 200\n",
        "err_slow = [error_relativo(py_arctan_slow, xs, n) for n in range(10, N, 10)]\n",
        "err_fast = [error_relativo(py_arctan_fast, xs, n) for n in range(10, N, 10)]\n",
        "err_cd = [error_relativo(c_arctan_double, xs, n) for n in range(10, N, 10)]\n",
        "err_cld = [error_relativo(c_arctan_longdouble, xs, n) for n in range(10, N, 10)]"
      ]
    },
    {
      "cell_type": "code",
      "execution_count": null,
      "metadata": {
        "id": "BBGZ_tdIbske"
      },
      "outputs": [],
      "source": [
        "plt.plot(range(10, N, 10), err_slow, label='slow')\n",
        "plt.plot(range(10, N, 10), err_fast, label='fast')\n",
        "plt.plot(range(10, N, 10), err_cd, label='double')\n",
        "plt.plot(range(10, N, 10), err_cld, label='long double')\n",
        "plt.legend()\n",
        "plt.tight_layout()"
      ]
    },
    {
      "cell_type": "markdown",
      "metadata": {
        "id": "Uv7i37gLbske"
      },
      "source": [
        "10. Realice la medición de tiempo con sus funciones (1.0)"
      ]
    },
    {
      "cell_type": "code",
      "execution_count": null,
      "metadata": {
        "id": "WQyVHXmcbske"
      },
      "outputs": [],
      "source": [
        "def arctan(f, n_terms, xs):\n",
        "    return np.asarray([f(x, n_terms) for x in xs])"
      ]
    },
    {
      "cell_type": "code",
      "execution_count": null,
      "metadata": {
        "id": "VGM_XxA5bske"
      },
      "outputs": [],
      "source": [
        "import time\n",
        "import statistics"
      ]
    },
    {
      "cell_type": "code",
      "execution_count": null,
      "metadata": {
        "id": "x5R-Jo5bbskf"
      },
      "outputs": [],
      "source": [
        "t_py_slow = []\n",
        "t_py_fast = []\n",
        "t_c_double = []\n",
        "t_c_longdouble = []\n",
        "xs = np.linspace(-1.00, 1.00, 1000)\n",
        "Ns = range(10, N, 10)\n",
        "\n",
        "for n in Ns:\n",
        "\n",
        "    t_py_slowi = []\n",
        "    t_py_fasti = []\n",
        "    t_c_doublei = []\n",
        "    t_c_longdoublei = []\n",
        "    \n",
        "    for _ in range(20):\n",
        "\n",
        "        tic = time.perf_counter()\n",
        "        arctan(py_arctan_slow, n, xs)\n",
        "        toc = time.perf_counter()\n",
        "        t_py_slowi.append(toc -tic)\n",
        "\n",
        "        tic = time.perf_counter()\n",
        "        arctan(py_arctan_fast, n, xs)\n",
        "        toc = time.perf_counter()\n",
        "        t_py_fasti.append(toc -tic)\n",
        "\n",
        "        tic = time.perf_counter()\n",
        "        arctan(c_arctan_double, n, xs)\n",
        "        toc = time.perf_counter()\n",
        "        t_c_doublei.append(toc -tic)\n",
        "\n",
        "        tic = time.perf_counter()\n",
        "        arctan(c_arctan_double, n, xs)\n",
        "        toc = time.perf_counter()\n",
        "        t_c_longdoublei.append(toc -tic)\n",
        "\n",
        "    t_py_slow.append(statistics.median(t_py_slowi))\n",
        "    t_py_fast.append(statistics.median(t_py_fasti))\n",
        "    t_c_double.append(statistics.median(t_c_doublei))\n",
        "    t_c_longdouble.append(statistics.median(t_c_longdoublei))"
      ]
    },
    {
      "cell_type": "markdown",
      "metadata": {
        "id": "ISBDrpzMbskf"
      },
      "source": [
        "11. Presentar la gráfica de tiempos para los cuatro casos (0.25)"
      ]
    },
    {
      "cell_type": "code",
      "execution_count": null,
      "metadata": {
        "id": "NGMc0j05bskf"
      },
      "outputs": [],
      "source": [
        "plt.plot(Ns, t_py_slow, label='slow')\n",
        "plt.plot(Ns, t_py_fast, label='fast')\n",
        "plt.plot(Ns, t_c_double, label='double')\n",
        "plt.plot(Ns, t_c_longdouble, label='longdouble')\n",
        "plt.legend()\n",
        "plt.tight_layout()"
      ]
    },
    {
      "cell_type": "markdown",
      "metadata": {
        "id": "JmGvoH66bskf"
      },
      "source": [
        "12. Presentar la gráfica de speedup de `python fast` respecto de `python slow` (0.25)"
      ]
    },
    {
      "cell_type": "code",
      "execution_count": null,
      "metadata": {
        "id": "2DA5_b6Nbskg"
      },
      "outputs": [],
      "source": [
        "plt.plot(Ns, np.asarray(t_py_slow) / np.asarray(t_py_fast), label='fast')"
      ]
    },
    {
      "cell_type": "markdown",
      "metadata": {
        "id": "YnHQXCeFbskg"
      },
      "source": [
        "13. Presentar la gráfica de speedup de `c double` y `c long double` respecto de `python slow` (0.25)"
      ]
    },
    {
      "cell_type": "code",
      "execution_count": null,
      "metadata": {
        "id": "36anpJ_2bskg"
      },
      "outputs": [],
      "source": [
        "plt.plot(Ns, np.asarray(t_py_slow) / np.asarray(t_c_double), label='double')\n",
        "plt.plot(Ns, np.asarray(t_py_slow) / np.asarray(t_c_longdouble), label='long double')\n",
        "plt.legend()\n",
        "plt.tight_layout()"
      ]
    }
  ],
  "metadata": {
    "kernelspec": {
      "display_name": "Python 3",
      "language": "python",
      "name": "python3"
    },
    "language_info": {
      "codemirror_mode": {
        "name": "ipython",
        "version": 3
      },
      "file_extension": ".py",
      "mimetype": "text/x-python",
      "name": "python",
      "nbconvert_exporter": "python",
      "pygments_lexer": "ipython3",
      "version": "3.10.6"
    },
    "orig_nbformat": 4,
    "colab": {
      "provenance": []
    }
  },
  "nbformat": 4,
  "nbformat_minor": 0
}